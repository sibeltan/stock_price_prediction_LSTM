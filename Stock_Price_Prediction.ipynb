{
 "cells": [
  {
   "cell_type": "markdown",
   "metadata": {},
   "source": [
    "## Stock Price Prediction (SPY)"
   ]
  },
  {
   "cell_type": "markdown",
   "metadata": {},
   "source": [
    "### Problem Statement"
   ]
  },
  {
   "cell_type": "markdown",
   "metadata": {},
   "source": [
    "Our goal is to predict the daily adjusted closing prices of SPDR S&P 500 ETF Trust (SPY) using data from the previous 60 days."
   ]
  },
  {
   "cell_type": "markdown",
   "metadata": {},
   "source": [
    "### Methodology"
   ]
  },
  {
   "cell_type": "markdown",
   "metadata": {},
   "source": [
    "We will use a particular kind of artificial recurrent neural network called Long Short Term Memory (LSTM) which is capable of learning long-term dependencies.They are networks with loops in them, allowing information information to flow from one step to the next. LSTM can store past information which is important and forget the information that is not improtant according to weights for forget gates. It is commonly used in text generation, handwriting recognition, music generation, language translation as well as weather or stock price forecast."
   ]
  },
  {
   "cell_type": "markdown",
   "metadata": {},
   "source": [
    "### Data"
   ]
  },
  {
   "cell_type": "markdown",
   "metadata": {},
   "source": [
    "We will use five years of historical prices for SPY from 01/01/2015 to 12/31/2019, which can be easily downloaded from [Yahoo finance](https://finance.yahoo.com/quote/SPY/).  \n",
    "(2020 data is excluded since pandemic related recession is not experienced frequently in history.)"
   ]
  },
  {
   "cell_type": "code",
   "execution_count": 1,
   "metadata": {},
   "outputs": [
    {
     "name": "stderr",
     "output_type": "stream",
     "text": [
      "Using TensorFlow backend.\n"
     ]
    }
   ],
   "source": [
    "# Import libraries\n",
    "\n",
    "import math\n",
    "import numpy as np\n",
    "import pandas as pd\n",
    "import pandas_datareader as web\n",
    "import matplotlib.pyplot as plt\n",
    "plt.style.use('fivethirtyeight')\n",
    "\n",
    "from sklearn.preprocessing import MinMaxScaler\n",
    "from keras.models import Sequential\n",
    "from keras.layers import Dense, LSTM, Dropout"
   ]
  },
  {
   "cell_type": "code",
   "execution_count": 2,
   "metadata": {},
   "outputs": [],
   "source": [
    "# Read the stock data\n",
    "spy_df = web.DataReader('SPY', data_source='yahoo', \n",
    "                        start='2015-01-01', end='2019-12-31')"
   ]
  },
  {
   "cell_type": "markdown",
   "metadata": {},
   "source": [
    "### EDA"
   ]
  },
  {
   "cell_type": "code",
   "execution_count": 3,
   "metadata": {},
   "outputs": [
    {
     "data": {
      "text/html": [
       "<div>\n",
       "<style scoped>\n",
       "    .dataframe tbody tr th:only-of-type {\n",
       "        vertical-align: middle;\n",
       "    }\n",
       "\n",
       "    .dataframe tbody tr th {\n",
       "        vertical-align: top;\n",
       "    }\n",
       "\n",
       "    .dataframe thead th {\n",
       "        text-align: right;\n",
       "    }\n",
       "</style>\n",
       "<table border=\"1\" class=\"dataframe\">\n",
       "  <thead>\n",
       "    <tr style=\"text-align: right;\">\n",
       "      <th></th>\n",
       "      <th>High</th>\n",
       "      <th>Low</th>\n",
       "      <th>Open</th>\n",
       "      <th>Close</th>\n",
       "      <th>Volume</th>\n",
       "      <th>Adj Close</th>\n",
       "    </tr>\n",
       "    <tr>\n",
       "      <th>Date</th>\n",
       "      <th></th>\n",
       "      <th></th>\n",
       "      <th></th>\n",
       "      <th></th>\n",
       "      <th></th>\n",
       "      <th></th>\n",
       "    </tr>\n",
       "  </thead>\n",
       "  <tbody>\n",
       "    <tr>\n",
       "      <th>2015-01-02</th>\n",
       "      <td>206.880005</td>\n",
       "      <td>204.179993</td>\n",
       "      <td>206.380005</td>\n",
       "      <td>205.429993</td>\n",
       "      <td>121465900.0</td>\n",
       "      <td>185.071075</td>\n",
       "    </tr>\n",
       "    <tr>\n",
       "      <th>2015-01-05</th>\n",
       "      <td>204.369995</td>\n",
       "      <td>201.350006</td>\n",
       "      <td>204.169998</td>\n",
       "      <td>201.720001</td>\n",
       "      <td>169632600.0</td>\n",
       "      <td>181.728745</td>\n",
       "    </tr>\n",
       "    <tr>\n",
       "      <th>2015-01-06</th>\n",
       "      <td>202.720001</td>\n",
       "      <td>198.860001</td>\n",
       "      <td>202.089996</td>\n",
       "      <td>199.820007</td>\n",
       "      <td>209151400.0</td>\n",
       "      <td>180.017090</td>\n",
       "    </tr>\n",
       "    <tr>\n",
       "      <th>2015-01-07</th>\n",
       "      <td>202.720001</td>\n",
       "      <td>200.880005</td>\n",
       "      <td>201.419998</td>\n",
       "      <td>202.309998</td>\n",
       "      <td>125346700.0</td>\n",
       "      <td>182.260269</td>\n",
       "    </tr>\n",
       "    <tr>\n",
       "      <th>2015-01-08</th>\n",
       "      <td>206.160004</td>\n",
       "      <td>203.990005</td>\n",
       "      <td>204.009995</td>\n",
       "      <td>205.899994</td>\n",
       "      <td>147217800.0</td>\n",
       "      <td>185.494492</td>\n",
       "    </tr>\n",
       "    <tr>\n",
       "      <th>...</th>\n",
       "      <td>...</td>\n",
       "      <td>...</td>\n",
       "      <td>...</td>\n",
       "      <td>...</td>\n",
       "      <td>...</td>\n",
       "      <td>...</td>\n",
       "    </tr>\n",
       "    <tr>\n",
       "      <th>2019-12-24</th>\n",
       "      <td>321.519989</td>\n",
       "      <td>320.899994</td>\n",
       "      <td>321.470001</td>\n",
       "      <td>321.230011</td>\n",
       "      <td>20270000.0</td>\n",
       "      <td>319.352142</td>\n",
       "    </tr>\n",
       "    <tr>\n",
       "      <th>2019-12-26</th>\n",
       "      <td>322.950012</td>\n",
       "      <td>321.640015</td>\n",
       "      <td>321.649994</td>\n",
       "      <td>322.940002</td>\n",
       "      <td>30911200.0</td>\n",
       "      <td>321.052124</td>\n",
       "    </tr>\n",
       "    <tr>\n",
       "      <th>2019-12-27</th>\n",
       "      <td>323.799988</td>\n",
       "      <td>322.279999</td>\n",
       "      <td>323.739990</td>\n",
       "      <td>322.859985</td>\n",
       "      <td>42528800.0</td>\n",
       "      <td>320.972565</td>\n",
       "    </tr>\n",
       "    <tr>\n",
       "      <th>2019-12-30</th>\n",
       "      <td>323.100006</td>\n",
       "      <td>320.549988</td>\n",
       "      <td>322.950012</td>\n",
       "      <td>321.079987</td>\n",
       "      <td>49729100.0</td>\n",
       "      <td>319.202972</td>\n",
       "    </tr>\n",
       "    <tr>\n",
       "      <th>2019-12-31</th>\n",
       "      <td>322.130005</td>\n",
       "      <td>320.149994</td>\n",
       "      <td>320.529999</td>\n",
       "      <td>321.859985</td>\n",
       "      <td>57077300.0</td>\n",
       "      <td>319.978424</td>\n",
       "    </tr>\n",
       "  </tbody>\n",
       "</table>\n",
       "<p>1258 rows × 6 columns</p>\n",
       "</div>"
      ],
      "text/plain": [
       "                  High         Low        Open       Close       Volume  \\\n",
       "Date                                                                      \n",
       "2015-01-02  206.880005  204.179993  206.380005  205.429993  121465900.0   \n",
       "2015-01-05  204.369995  201.350006  204.169998  201.720001  169632600.0   \n",
       "2015-01-06  202.720001  198.860001  202.089996  199.820007  209151400.0   \n",
       "2015-01-07  202.720001  200.880005  201.419998  202.309998  125346700.0   \n",
       "2015-01-08  206.160004  203.990005  204.009995  205.899994  147217800.0   \n",
       "...                ...         ...         ...         ...          ...   \n",
       "2019-12-24  321.519989  320.899994  321.470001  321.230011   20270000.0   \n",
       "2019-12-26  322.950012  321.640015  321.649994  322.940002   30911200.0   \n",
       "2019-12-27  323.799988  322.279999  323.739990  322.859985   42528800.0   \n",
       "2019-12-30  323.100006  320.549988  322.950012  321.079987   49729100.0   \n",
       "2019-12-31  322.130005  320.149994  320.529999  321.859985   57077300.0   \n",
       "\n",
       "             Adj Close  \n",
       "Date                    \n",
       "2015-01-02  185.071075  \n",
       "2015-01-05  181.728745  \n",
       "2015-01-06  180.017090  \n",
       "2015-01-07  182.260269  \n",
       "2015-01-08  185.494492  \n",
       "...                ...  \n",
       "2019-12-24  319.352142  \n",
       "2019-12-26  321.052124  \n",
       "2019-12-27  320.972565  \n",
       "2019-12-30  319.202972  \n",
       "2019-12-31  319.978424  \n",
       "\n",
       "[1258 rows x 6 columns]"
      ]
     },
     "execution_count": 3,
     "metadata": {},
     "output_type": "execute_result"
    }
   ],
   "source": [
    "spy_df"
   ]
  },
  {
   "cell_type": "code",
   "execution_count": 4,
   "metadata": {},
   "outputs": [
    {
     "data": {
      "text/plain": [
       "(1258, 6)"
      ]
     },
     "execution_count": 4,
     "metadata": {},
     "output_type": "execute_result"
    }
   ],
   "source": [
    "# Number of rows and columns in the dataframe\n",
    "spy_df.shape"
   ]
  },
  {
   "cell_type": "code",
   "execution_count": 51,
   "metadata": {},
   "outputs": [
    {
     "data": {
      "image/png": "[encoded data removed]",
      "text/plain": [
       "<Figure size 1152x576 with 1 Axes>"
      ]
     },
     "metadata": {
      "needs_background": "light"
     },
     "output_type": "display_data"
    }
   ],
   "source": [
    "# Plot the closing price history of the stock\n",
    "plt.figure(figsize=(16,8))\n",
    "plt.title('Close Price History', fontweight='bold', fontsize=20)\n",
    "plt.plot(spy_df['Close'], color='green')\n",
    "plt.xlabel('Date', fontsize=18, fontweight='bold')\n",
    "plt.ylabel('Close Price ($)', fontsize=18, fontweight='bold')\n",
    "plt.show()"
   ]
  },
  {
   "cell_type": "code",
   "execution_count": 6,
   "metadata": {},
   "outputs": [],
   "source": [
    "# Create a new dataframe with only Close column\n",
    "close_spy_df = spy_df.filter(['Close'])"
   ]
  },
  {
   "cell_type": "code",
   "execution_count": 7,
   "metadata": {},
   "outputs": [],
   "source": [
    "# Save the price values to a numpy array\n",
    "close_spy_arr = close_spy_df.values"
   ]
  },
  {
   "cell_type": "code",
   "execution_count": 8,
   "metadata": {},
   "outputs": [],
   "source": [
    "# Get the length of training data (80% of sample size)\n",
    "train_size = int(np.round(len(close_spy_arr) * .8))"
   ]
  },
  {
   "cell_type": "code",
   "execution_count": 9,
   "metadata": {},
   "outputs": [
    {
     "data": {
      "text/plain": [
       "1006"
      ]
     },
     "execution_count": 9,
     "metadata": {},
     "output_type": "execute_result"
    }
   ],
   "source": [
    "train_size"
   ]
  },
  {
   "cell_type": "markdown",
   "metadata": {},
   "source": [
    "### Data Preprocessing"
   ]
  },
  {
   "cell_type": "markdown",
   "metadata": {},
   "source": [
    "We will use MinMaxScaler estimator to transform the prices such that they are in the given range on the training set (between zero and one inclusive)."
   ]
  },
  {
   "cell_type": "code",
   "execution_count": 10,
   "metadata": {},
   "outputs": [
    {
     "data": {
      "text/plain": [
       "array([[0.16112216],\n",
       "       [0.13463735],\n",
       "       [0.12107372],\n",
       "       ...,\n",
       "       [0.99942878],\n",
       "       [0.98672176],\n",
       "       [0.99229   ]])"
      ]
     },
     "execution_count": 10,
     "metadata": {},
     "output_type": "execute_result"
    }
   ],
   "source": [
    "# Scale the data\n",
    "sc = MinMaxScaler(feature_range=(0,1))\n",
    "close_spy_arr_scaled = sc.fit_transform(close_spy_arr)\n",
    "\n",
    "close_spy_arr_scaled"
   ]
  },
  {
   "cell_type": "code",
   "execution_count": 11,
   "metadata": {},
   "outputs": [],
   "source": [
    "# Create the scaled train data set\n",
    "train_scaled = close_spy_arr_scaled[0:train_size, :]"
   ]
  },
  {
   "cell_type": "code",
   "execution_count": 12,
   "metadata": {},
   "outputs": [
    {
     "data": {
      "text/plain": [
       "array([[0.16112216],\n",
       "       [0.13463735],\n",
       "       [0.12107372],\n",
       "       ...,\n",
       "       [0.46551974],\n",
       "       [0.46323528],\n",
       "       [0.47872642]])"
      ]
     },
     "execution_count": 12,
     "metadata": {},
     "output_type": "execute_result"
    }
   ],
   "source": [
    "train_scaled"
   ]
  },
  {
   "cell_type": "code",
   "execution_count": 13,
   "metadata": {},
   "outputs": [],
   "source": [
    "# Create x_train_scaled y_train_scaled data sets\n",
    "\n",
    "x_train_scaled = [] # empty list\n",
    "y_train_scaled = [] # empty list\n",
    "\n",
    "for i in range(60, len(train_scaled)):\n",
    "    x_train_scaled.append(train_scaled[i-60:i, 0]) # previous 60 days of values\n",
    "    y_train_scaled.append(train_scaled[i, 0]) # target value    "
   ]
  },
  {
   "cell_type": "code",
   "execution_count": 14,
   "metadata": {},
   "outputs": [
    {
     "data": {
      "text/plain": [
       "(array([0.16112216, 0.13463735, 0.12107372, 0.13884921, 0.16447739,\n",
       "        0.15269845, 0.14127636, 0.13720732, 0.128498  , 0.11536267,\n",
       "        0.13399489, 0.13706451, 0.14434609, 0.16590523, 0.15783838,\n",
       "        0.16126496, 0.14191894, 0.12335807, 0.13656485, 0.1184323 ,\n",
       "        0.13606509, 0.1569103 , 0.15134207, 0.16604793, 0.16197888,\n",
       "        0.15541122, 0.17097371, 0.17183032, 0.18603653, 0.19217588,\n",
       "        0.19453169, 0.1946745 , 0.19360362, 0.20259855, 0.20238439,\n",
       "        0.20666759, 0.20538267, 0.20359797, 0.19845804, 0.20795263,\n",
       "        0.20174182, 0.19538831, 0.19703031, 0.17589948, 0.18203883,\n",
       "        0.15790973, 0.15448315, 0.17304401, 0.16397773, 0.18360937,\n",
       "        0.17918337, 0.19703031, 0.19017703, 0.19667335, 0.19374642,\n",
       "        0.18532272, 0.16347797, 0.15998004, 0.16333527, 0.18125356]),\n",
       " 0.168260934875319)"
      ]
     },
     "execution_count": 14,
     "metadata": {},
     "output_type": "execute_result"
    }
   ],
   "source": [
    "# Print first values from both x_train_scaled and y_train_scaled\n",
    "# First 60 days values (feature) & 61th day value (target)\n",
    "x_train_scaled[0], y_train_scaled[0]"
   ]
  },
  {
   "cell_type": "code",
   "execution_count": 15,
   "metadata": {},
   "outputs": [],
   "source": [
    "# Convert x_train_scaled and y_train_scaled lists to numpy arrays\n",
    "x_train_scaled,y_train_scaled = np.array(x_train_scaled),np.array(y_train_scaled)"
   ]
  },
  {
   "cell_type": "code",
   "execution_count": 16,
   "metadata": {},
   "outputs": [],
   "source": [
    "# Reshape the train data as 3-dimensional array\n",
    "x_train_scaled = np.reshape(x_train_scaled, (x_train_scaled.shape[0], x_train_scaled.shape[1], 1))"
   ]
  },
  {
   "cell_type": "code",
   "execution_count": 17,
   "metadata": {},
   "outputs": [],
   "source": [
    "# Build the LSTM network\n",
    "model = Sequential()\n",
    "model.add(LSTM(units=50, \n",
    "               return_sequences=True, \n",
    "               input_shape=(x_train_scaled.shape[1],1)))\n",
    "# Add dropout with a probability of 0.5\n",
    "model.add(Dropout(.5)) \n",
    "model.add(LSTM(units=50,\n",
    "               return_sequences=False))\n",
    "# Add dropout with a probability of 0.5\n",
    "model.add(Dropout(.5)) \n",
    "model.add(Dense(25))\n",
    "model.add(Dense(1))"
   ]
  },
  {
   "cell_type": "code",
   "execution_count": 19,
   "metadata": {},
   "outputs": [
    {
     "name": "stdout",
     "output_type": "stream",
     "text": [
      "Epoch 1/10\n",
      "Epoch 2/10\n",
      "Epoch 3/10\n",
      "Epoch 4/10\n",
      "Epoch 5/10\n",
      "Epoch 6/10\n",
      "Epoch 7/10\n",
      "Epoch 8/10\n",
      "Epoch 9/10\n",
      "Epoch 10/10\n"
     ]
    },
    {
     "data": {
      "text/plain": [
       "<keras.callbacks.callbacks.History at 0x1c76d1b0b08>"
      ]
     },
     "execution_count": 19,
     "metadata": {},
     "output_type": "execute_result"
    }
   ],
   "source": [
    "# Compile and fit the LSTM network\n",
    "model.compile(loss='mean_squared_error', optimizer='adam')\n",
    "model.fit(x_train_scaled, y_train_scaled, epochs=10,   \n",
    "          batch_size=1, verbose=-1)"
   ]
  },
  {
   "cell_type": "code",
   "execution_count": 35,
   "metadata": {},
   "outputs": [],
   "source": [
    "# Create the scaled test data set (20% of the sample size)\n",
    "test_scaled = close_spy_arr_scaled[train_size - 60:, :]"
   ]
  },
  {
   "cell_type": "code",
   "execution_count": 36,
   "metadata": {},
   "outputs": [],
   "source": [
    "# Create x_test_scaled y_test data sets\n",
    "\n",
    "x_test_scaled = [] # empty list\n",
    "y_test = close_spy_arr[train_size:, :] # unscaled array\n",
    "\n",
    "for i in range(60, len(test_scaled)):\n",
    "    x_test_scaled.append(test_scaled[i-60:i, 0]) # previous 60 days of values  "
   ]
  },
  {
   "cell_type": "code",
   "execution_count": 37,
   "metadata": {},
   "outputs": [],
   "source": [
    "# Convert the data to a numpy array\n",
    "x_test_scaled = np.array(x_test_scaled)"
   ]
  },
  {
   "cell_type": "code",
   "execution_count": 38,
   "metadata": {},
   "outputs": [],
   "source": [
    "# Reshape the data\n",
    "x_test_scaled = np.reshape(x_test_scaled, \n",
    "                           (x_test_scaled.shape[0], \n",
    "                            x_test_scaled.shape[1], 1))"
   ]
  },
  {
   "cell_type": "code",
   "execution_count": 39,
   "metadata": {},
   "outputs": [],
   "source": [
    "# Predict the price values\n",
    "preds = model.predict(x_test_scaled)\n",
    "preds = sc.inverse_transform(preds)"
   ]
  },
  {
   "cell_type": "code",
   "execution_count": 41,
   "metadata": {},
   "outputs": [
    {
     "data": {
      "text/plain": [
       "8.388251442610185"
      ]
     },
     "execution_count": 41,
     "metadata": {},
     "output_type": "execute_result"
    }
   ],
   "source": [
    "# Calculate RMSE\n",
    "rmse =np.sqrt(np.mean(((preds - y_test)**2)))\n",
    "rmse"
   ]
  },
  {
   "cell_type": "code",
   "execution_count": 57,
   "metadata": {},
   "outputs": [
    {
     "name": "stderr",
     "output_type": "stream",
     "text": [
      "c:\\users\\sibel\\appdata\\local\\programs\\python\\python37\\lib\\site-packages\\ipykernel_launcher.py:4: SettingWithCopyWarning: \n",
      "A value is trying to be set on a copy of a slice from a DataFrame.\n",
      "Try using .loc[row_indexer,col_indexer] = value instead\n",
      "\n",
      "See the caveats in the documentation: http://pandas.pydata.org/pandas-docs/stable/user_guide/indexing.html#returning-a-view-versus-a-copy\n",
      "  after removing the cwd from sys.path.\n"
     ]
    },
    {
     "data": {
      "image/png": "[encoded data removed]",
      "text/plain": [
       "<Figure size 1152x576 with 1 Axes>"
      ]
     },
     "metadata": {
      "needs_background": "light"
     },
     "output_type": "display_data"
    }
   ],
   "source": [
    "# Plot the actual values vs predictions\n",
    "train = close_spy_df[:train_size]\n",
    "valid = close_spy_df[train_size:]\n",
    "valid['Predictions'] = preds\n",
    "\n",
    "plt.figure(figsize=(16,8))\n",
    "plt.title('Model')\n",
    "plt.xlabel('Date', fontsize=18, fontweight='bold')\n",
    "plt.ylabel('Close Price ($)', fontsize=18, fontweight='bold')\n",
    "plt.plot(train['Close'], color='green')\n",
    "plt.plot(valid[['Close', 'Predictions']])\n",
    "plt.legend(['Train', 'Val', 'Predictions'], loc='lower right')\n",
    "plt.show()"
   ]
  },
  {
   "cell_type": "code",
   "execution_count": 50,
   "metadata": {},
   "outputs": [
    {
     "data": {
      "text/html": [
       "<div>\n",
       "<style scoped>\n",
       "    .dataframe tbody tr th:only-of-type {\n",
       "        vertical-align: middle;\n",
       "    }\n",
       "\n",
       "    .dataframe tbody tr th {\n",
       "        vertical-align: top;\n",
       "    }\n",
       "\n",
       "    .dataframe thead th {\n",
       "        text-align: right;\n",
       "    }\n",
       "</style>\n",
       "<table border=\"1\" class=\"dataframe\">\n",
       "  <thead>\n",
       "    <tr style=\"text-align: right;\">\n",
       "      <th></th>\n",
       "      <th>Close</th>\n",
       "      <th>Predictions</th>\n",
       "    </tr>\n",
       "    <tr>\n",
       "      <th>Date</th>\n",
       "      <th></th>\n",
       "      <th></th>\n",
       "    </tr>\n",
       "  </thead>\n",
       "  <tbody>\n",
       "    <tr>\n",
       "      <th>2019-01-02</th>\n",
       "      <td>250.179993</td>\n",
       "      <td>246.363998</td>\n",
       "    </tr>\n",
       "    <tr>\n",
       "      <th>2019-01-03</th>\n",
       "      <td>244.210007</td>\n",
       "      <td>247.637589</td>\n",
       "    </tr>\n",
       "    <tr>\n",
       "      <th>2019-01-04</th>\n",
       "      <td>252.389999</td>\n",
       "      <td>247.618759</td>\n",
       "    </tr>\n",
       "    <tr>\n",
       "      <th>2019-01-07</th>\n",
       "      <td>254.380005</td>\n",
       "      <td>248.539429</td>\n",
       "    </tr>\n",
       "    <tr>\n",
       "      <th>2019-01-08</th>\n",
       "      <td>256.769989</td>\n",
       "      <td>250.013275</td>\n",
       "    </tr>\n",
       "    <tr>\n",
       "      <th>...</th>\n",
       "      <td>...</td>\n",
       "      <td>...</td>\n",
       "    </tr>\n",
       "    <tr>\n",
       "      <th>2019-12-24</th>\n",
       "      <td>321.230011</td>\n",
       "      <td>307.008759</td>\n",
       "    </tr>\n",
       "    <tr>\n",
       "      <th>2019-12-26</th>\n",
       "      <td>322.940002</td>\n",
       "      <td>307.277924</td>\n",
       "    </tr>\n",
       "    <tr>\n",
       "      <th>2019-12-27</th>\n",
       "      <td>322.859985</td>\n",
       "      <td>307.706238</td>\n",
       "    </tr>\n",
       "    <tr>\n",
       "      <th>2019-12-30</th>\n",
       "      <td>321.079987</td>\n",
       "      <td>308.095612</td>\n",
       "    </tr>\n",
       "    <tr>\n",
       "      <th>2019-12-31</th>\n",
       "      <td>321.859985</td>\n",
       "      <td>308.122253</td>\n",
       "    </tr>\n",
       "  </tbody>\n",
       "</table>\n",
       "<p>252 rows × 2 columns</p>\n",
       "</div>"
      ],
      "text/plain": [
       "                 Close  Predictions\n",
       "Date                               \n",
       "2019-01-02  250.179993   246.363998\n",
       "2019-01-03  244.210007   247.637589\n",
       "2019-01-04  252.389999   247.618759\n",
       "2019-01-07  254.380005   248.539429\n",
       "2019-01-08  256.769989   250.013275\n",
       "...                ...          ...\n",
       "2019-12-24  321.230011   307.008759\n",
       "2019-12-26  322.940002   307.277924\n",
       "2019-12-27  322.859985   307.706238\n",
       "2019-12-30  321.079987   308.095612\n",
       "2019-12-31  321.859985   308.122253\n",
       "\n",
       "[252 rows x 2 columns]"
      ]
     },
     "execution_count": 50,
     "metadata": {},
     "output_type": "execute_result"
    }
   ],
   "source": [
    "# Display actual prices vs predictions\n",
    "valid"
   ]
  },
  {
   "cell_type": "markdown",
   "metadata": {},
   "source": [
    "It looks like the model is pretty decent predicting stock market prices based on past 60 days values."
   ]
  },
  {
   "cell_type": "markdown",
   "metadata": {},
   "source": [
    "Question: Can we rely on a robust LSTM network when making investment decisions?"
   ]
  }
 ],
 "metadata": {
  "kernelspec": {
   "display_name": "Python 3",
   "language": "python",
   "name": "python3"
  },
  "language_info": {
   "codemirror_mode": {
    "name": "ipython",
    "version": 3
   },
   "file_extension": ".py",
   "mimetype": "text/x-python",
   "name": "python",
   "nbconvert_exporter": "python",
   "pygments_lexer": "ipython3",
   "version": "3.7.7"
  }
 },
 "nbformat": 4,
 "nbformat_minor": 2
}
